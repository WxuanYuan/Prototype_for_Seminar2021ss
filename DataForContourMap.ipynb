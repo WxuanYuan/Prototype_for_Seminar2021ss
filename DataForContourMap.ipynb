{
 "cells": [
  {
   "cell_type": "code",
   "execution_count": 15,
   "id": "ba4fd92b",
   "metadata": {},
   "outputs": [],
   "source": [
    "import matplotlib.pyplot as plt\n",
    "\n",
    "import math\n",
    "%matplotlib inline\n",
    "import numpy as np\n",
    "from math import pi\n",
    "from mpl_toolkits.mplot3d import Axes3D\n",
    "\n",
    "from qiskit import QuantumCircuit, ClassicalRegister, QuantumRegister, execute\n",
    "from qiskit.tools.visualization import circuit_drawer\n",
    "from qiskit.quantum_info import state_fidelity\n",
    "from qiskit import BasicAer\n",
    "from qiskit.circuit import Parameter\n"
   ]
  },
  {
   "cell_type": "code",
   "execution_count": 16,
   "id": "8fd06ee6",
   "metadata": {},
   "outputs": [
    {
     "data": {
      "image/png": "[encoded data removed]",
      "text/plain": [
       "<Figure size 387.452x204.68 with 1 Axes>"
      ]
     },
     "execution_count": 16,
     "metadata": {},
     "output_type": "execute_result"
    },
    {
     "data": {
      "image/png": "[encoded data removed]",
      "text/plain": [
       "<Figure size 387.452x204.68 with 1 Axes>"
      ]
     },
     "metadata": {},
     "output_type": "display_data"
    }
   ],
   "source": [
    "# create a circuit with two parameterized quantum gates\n",
    "\n",
    "theta1 = Parameter('θ1')\n",
    "theta2 = Parameter('θ2')\n",
    "qc = QuantumCircuit(2, 2)\n",
    "\n",
    "qc.rx(theta1,0)\n",
    "qc.h(1)\n",
    "qc.cx(0,1)\n",
    "qc.rx(pi/4,0)\n",
    "qc.ry(theta2,1)\n",
    "\n",
    "qc.measure(range(2), range(2))\n",
    "qc.draw('mpl')"
   ]
  },
  {
   "cell_type": "code",
   "execution_count": 22,
   "id": "5bc5d3c5",
   "metadata": {},
   "outputs": [
    {
     "name": "stdout",
     "output_type": "stream",
     "text": [
      "[[ 38.  54.  70.  75.  76.  82.  62.  35.  27.  22.  14.   0.   0.   2.\n",
      "    5.  26.  50.]\n",
      " [ 77.  89. 131. 152. 165. 170. 134. 106.  72.  53.  19.   8.   0.   4.\n",
      "   22.  50.  82.]\n",
      " [132. 183. 234. 241. 262. 246. 211. 140. 121.  79.  31.   9.   0.  14.\n",
      "   29.  77. 126.]\n",
      " [183. 243. 314. 335. 335. 319. 280. 256. 168.  97.  56.  14.   0.  16.\n",
      "   66. 109. 164.]\n",
      " [216. 288. 354. 421. 433. 424. 388. 308. 224. 135.  65.  10.   0.  13.\n",
      "   67. 138. 219.]\n",
      " [242. 333. 420. 476. 487. 476. 412. 334. 259. 152.  79.  23.   0.  13.\n",
      "   74. 171. 273.]\n",
      " [251. 374. 437. 487. 512. 494. 443. 341. 255. 147.  81.  20.   0.  18.\n",
      "   72. 176. 255.]\n",
      " [246. 349. 424. 466. 498. 470. 432. 334. 230. 135.  86.  16.   0.  18.\n",
      "   76. 145. 245.]\n",
      " [199. 301. 370. 415. 437. 413. 358. 304. 233. 125.  57.  15.   0.  21.\n",
      "   71. 142. 228.]\n",
      " [182. 239. 313. 356. 360. 320. 316. 251. 169. 112.  42.  11.   0.  14.\n",
      "   47. 101. 179.]\n",
      " [127. 172. 235. 230. 264. 258. 239. 168. 142.  74.  33.  10.   0.  11.\n",
      "   40.  77. 142.]\n",
      " [ 76. 122. 135. 165. 157. 159. 142. 129.  74.  62.  25.   5.   0.   3.\n",
      "   19.  54.  73.]\n",
      " [ 43.  50.  77.  81.  72.  71.  70.  55.  33.  22.  10.   3.   0.   3.\n",
      "    6.  22.  34.]\n",
      " [  8.  11.  20.  18.  19.  36.  20.  16.   8.   6.   2.   1.   0.   0.\n",
      "    3.   7.   6.]\n",
      " [  0.   0.   0.   0.   0.   0.   0.   0.   0.   0.   0.   0.   0.   0.\n",
      "    0.   0.   0.]\n",
      " [  7.  14.  20.  17.  16.  18.  15.  10.  10.   7.   5.   1.   0.   2.\n",
      "    0.   8.   8.]\n",
      " [ 36.  36.  69.  61.  68.  74.  59.  53.  31.  24.   5.   4.   0.   5.\n",
      "   14.  31.  35.]]\n"
     ]
    }
   ],
   "source": [
    "# assign 17 values to each parameter and store the possibility of measuring state |11> in matrix 'toMatlab'. Contour map is generated with Matlab with respect to this matrix.\n",
    "\n",
    "x = np.linspace(0, 2 * np.pi, 17)\n",
    "y = np.linspace(0, 2 * np.pi, 17)\n",
    "toMatlab = np.zeros((17,17))\n",
    "for i in range(17):\n",
    "    for j in range(17):\n",
    "        circuitToRum = qc.bind_parameters({theta1: x[i],theta2: y[j]})\n",
    "        job = execute(circuitToRum,\n",
    "              backend=BasicAer.get_backend('qasm_simulator'),\n",
    "              shots = 512)\n",
    "        toMatlab[i][j] = job.result().get_counts().get('11',0)/512\n",
    "\n",
    "print(toMatlab)"
   ]
  },
  {
   "cell_type": "code",
   "execution_count": null,
   "id": "ff44279b",
   "metadata": {},
   "outputs": [],
   "source": []
  }
 ],
 "metadata": {
  "kernelspec": {
   "display_name": "Python 3",
   "language": "python",
   "name": "python3"
  },
  "language_info": {
   "codemirror_mode": {
    "name": "ipython",
    "version": 3
   },
   "file_extension": ".py",
   "mimetype": "text/x-python",
   "name": "python",
   "nbconvert_exporter": "python",
   "pygments_lexer": "ipython3",
   "version": "3.8.8"
  }
 },
 "nbformat": 4,
 "nbformat_minor": 5
}
